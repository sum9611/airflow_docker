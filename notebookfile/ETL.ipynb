{
 "cells": [
  {
   "cell_type": "code",
   "execution_count": 125,
   "metadata": {},
   "outputs": [],
   "source": [
    "import pymysql\n",
    "import pandas as pd\n",
    "from datetime import datetime\n",
    "from sqlalchemy import create_engine"
   ]
  },
  {
   "cell_type": "markdown",
   "metadata": {},
   "source": [
    "# 선수 테이블 생성하기 "
   ]
  },
  {
   "cell_type": "code",
   "execution_count": 131,
   "metadata": {},
   "outputs": [],
   "source": [
    "conn = pymysql.connect(host = '', user = 'sy', passwd='1030', db = 'baseball', charset='utf8', port = 3307,cursorclass=pymysql.cursors.DictCursor)\n",
    "cur = conn.cursor()\n",
    "sql = '''select * from batting_info\n",
    "'''\n",
    "cur.execute(sql)\n",
    "\n",
    "result = cur.fetchall()\n",
    "batting = pd.DataFrame(result)\n",
    "\n",
    "sql = '''select * from pitching_info\n",
    "'''\n",
    "cur.execute(sql)\n",
    "\n",
    "result = cur.fetchall()\n",
    "pitching = pd.DataFrame(result)\n",
    "\n",
    "conn.close()"
   ]
  },
  {
   "cell_type": "code",
   "execution_count": 142,
   "metadata": {},
   "outputs": [],
   "source": [
    "batting = batting[['player_name','player_birth']].drop_duplicates(['player_name','player_birth'])\n",
    "pitching = pitching[['player_name','player_birth']].drop_duplicates(['player_name','player_birth'])"
   ]
  },
  {
   "cell_type": "code",
   "execution_count": 146,
   "metadata": {},
   "outputs": [
    {
     "data": {
      "text/html": [
       "<div>\n",
       "<style scoped>\n",
       "    .dataframe tbody tr th:only-of-type {\n",
       "        vertical-align: middle;\n",
       "    }\n",
       "\n",
       "    .dataframe tbody tr th {\n",
       "        vertical-align: top;\n",
       "    }\n",
       "\n",
       "    .dataframe thead th {\n",
       "        text-align: right;\n",
       "    }\n",
       "</style>\n",
       "<table border=\"1\" class=\"dataframe\">\n",
       "  <thead>\n",
       "    <tr style=\"text-align: right;\">\n",
       "      <th></th>\n",
       "      <th>player_name</th>\n",
       "      <th>player_birth</th>\n",
       "    </tr>\n",
       "  </thead>\n",
       "  <tbody>\n",
       "    <tr>\n",
       "      <th>0</th>\n",
       "      <td>강백호</td>\n",
       "      <td>1999-07-29</td>\n",
       "    </tr>\n",
       "    <tr>\n",
       "      <th>1</th>\n",
       "      <td>강승호</td>\n",
       "      <td>1994-02-09</td>\n",
       "    </tr>\n",
       "    <tr>\n",
       "      <th>2</th>\n",
       "      <td>강현우</td>\n",
       "      <td>2001-04-13</td>\n",
       "    </tr>\n",
       "    <tr>\n",
       "      <th>3</th>\n",
       "      <td>고승민</td>\n",
       "      <td>2000-08-11</td>\n",
       "    </tr>\n",
       "    <tr>\n",
       "      <th>4</th>\n",
       "      <td>고종욱</td>\n",
       "      <td>1989-01-11</td>\n",
       "    </tr>\n",
       "    <tr>\n",
       "      <th>...</th>\n",
       "      <td>...</td>\n",
       "      <td>...</td>\n",
       "    </tr>\n",
       "    <tr>\n",
       "      <th>686</th>\n",
       "      <td>최준용</td>\n",
       "      <td>2001-10-10</td>\n",
       "    </tr>\n",
       "    <tr>\n",
       "      <th>711</th>\n",
       "      <td>원태인</td>\n",
       "      <td>2000-04-06</td>\n",
       "    </tr>\n",
       "    <tr>\n",
       "      <th>730</th>\n",
       "      <td>최이준</td>\n",
       "      <td>1999-04-10</td>\n",
       "    </tr>\n",
       "    <tr>\n",
       "      <th>768</th>\n",
       "      <td>이승호</td>\n",
       "      <td>1999-02-08</td>\n",
       "    </tr>\n",
       "    <tr>\n",
       "      <th>775</th>\n",
       "      <td>장현식</td>\n",
       "      <td>1995-02-24</td>\n",
       "    </tr>\n",
       "  </tbody>\n",
       "</table>\n",
       "<p>355 rows × 2 columns</p>\n",
       "</div>"
      ],
      "text/plain": [
       "    player_name player_birth\n",
       "0           강백호   1999-07-29\n",
       "1           강승호   1994-02-09\n",
       "2           강현우   2001-04-13\n",
       "3           고승민   2000-08-11\n",
       "4           고종욱   1989-01-11\n",
       "..          ...          ...\n",
       "686         최준용   2001-10-10\n",
       "711         원태인   2000-04-06\n",
       "730         최이준   1999-04-10\n",
       "768         이승호   1999-02-08\n",
       "775         장현식   1995-02-24\n",
       "\n",
       "[355 rows x 2 columns]"
      ]
     },
     "execution_count": 146,
     "metadata": {},
     "output_type": "execute_result"
    }
   ],
   "source": [
    "player = pd.concat([batting,pitching]).drop_duplicates(['player_name','player_birth'])\n",
    "player"
   ]
  },
  {
   "cell_type": "code",
   "execution_count": 148,
   "metadata": {},
   "outputs": [],
   "source": [
    "engine = create_engine(f\"mysql+pymysql://sy:1030@:3307/baseball?charset=utf8\")\n",
    "conn = engine.connect()\n",
    "player.head(10).to_sql(name = 'player_info', con = engine, if_exists = 'append', index=False)\n",
    "conn.close()"
   ]
  }
 ],
 "metadata": {
  "kernelspec": {
   "display_name": "Python 3",
   "language": "python",
   "name": "python3"
  },
  "language_info": {
   "codemirror_mode": {
    "name": "ipython",
    "version": 3
   },
   "file_extension": ".py",
   "mimetype": "text/x-python",
   "name": "python",
   "nbconvert_exporter": "python",
   "pygments_lexer": "ipython3",
   "version": "3.11.2"
  },
  "orig_nbformat": 4
 },
 "nbformat": 4,
 "nbformat_minor": 2
}
