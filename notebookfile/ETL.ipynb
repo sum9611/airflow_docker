{
 "cells": [
  {
   "cell_type": "code",
   "execution_count": 1,
   "metadata": {},
   "outputs": [],
   "source": [
    "import pymysql\n",
    "import pandas as pd\n",
    "from datetime import datetime\n",
    "from sqlalchemy import create_engine\n",
    "import yaml"
   ]
  },
  {
   "cell_type": "code",
   "execution_count": 2,
   "metadata": {},
   "outputs": [],
   "source": [
    "# db정보 가져오기\n",
    "with open('../yamls/sql_info.yaml') as f:\n",
    "\n",
    "    info = yaml.load(f, Loader=yaml.FullLoader)\n",
    "\n",
    "host = info['MARIADB']['IP']\n",
    "user = info['MARIADB']['USER']\n",
    "passwd=info['MARIADB']['PASSWD']\n",
    "db = info['MARIADB']['DB']\n",
    "port = info['MARIADB']['PORT']"
   ]
  },
  {
   "cell_type": "markdown",
   "metadata": {},
   "source": [
    "# 선수 테이블 생성하기 "
   ]
  },
  {
   "cell_type": "code",
   "execution_count": 3,
   "metadata": {},
   "outputs": [],
   "source": [
    "conn = pymysql.connect(host = host, user = user, passwd=passwd, db = db, charset='utf8', port = port,cursorclass=pymysql.cursors.DictCursor)\n",
    "cur = conn.cursor()\n",
    "sql = '''select * from batting_info\n",
    "'''\n",
    "cur.execute(sql)\n",
    "\n",
    "result = cur.fetchall()\n",
    "batting = pd.DataFrame(result)\n",
    "\n",
    "sql = '''select * from pitching_info\n",
    "'''\n",
    "cur.execute(sql)\n",
    "\n",
    "result = cur.fetchall()\n",
    "pitching = pd.DataFrame(result)\n",
    "\n",
    "conn.close()"
   ]
  },
  {
   "cell_type": "code",
   "execution_count": 4,
   "metadata": {},
   "outputs": [],
   "source": [
    "# 투수, 타자 df에서 필요한 컬럼만 가져오기\n",
    "batting = batting[['player_name','player_birth']].drop_duplicates(['player_name','player_birth'])\n",
    "pitching = pitching[['player_name','player_birth']].drop_duplicates(['player_name','player_birth'])\n",
    "\n",
    "# 투수, 타자 정보 concat 후 중복제거하기\n",
    "player = pd.concat([batting,pitching]).drop_duplicates(['player_name','player_birth'])\n",
    "player = pd.concat([batting,pitching])\n",
    "\n",
    "# 완성된 데이터 적재 \n",
    "engine = create_engine(f\"mysql+pymysql://{user}:{passwd}@{host}:{port}/{db}?charset=utf8\")\n",
    "conn = engine.connect()\n",
    "player.to_sql(name = 'player_info', con = engine, if_exists = 'append', index=False)\n",
    "conn.close()"
   ]
  },
  {
   "cell_type": "markdown",
   "metadata": {},
   "source": [
    "## week 컬럼생성"
   ]
  },
  {
   "cell_type": "code",
   "execution_count": 72,
   "metadata": {},
   "outputs": [],
   "source": [
    "\n",
    "conn = pymysql.connect(host = host, user = user, passwd=passwd, db = db, charset='utf8', port = port,cursorclass=pymysql.cursors.DictCursor)\n",
    "cur = conn.cursor()\n",
    "sql = '''select * from batting_info\n",
    "'''\n",
    "cur.execute(sql)\n",
    "\n",
    "result = cur.fetchall()\n",
    "batting = pd.DataFrame(result)\n",
    "\n",
    "sql = '''select * from pitching_info\n",
    "'''\n",
    "cur.execute(sql)\n",
    "\n",
    "result = cur.fetchall()\n",
    "pitching = pd.DataFrame(result)\n",
    "\n",
    "conn.close()\n",
    "\n",
    "\n"
   ]
  },
  {
   "cell_type": "code",
   "execution_count": 73,
   "metadata": {},
   "outputs": [],
   "source": [
    "# isocalendar 모듈을 사용하여 week 계산\n",
    "batting['week'] = batting['yyyymmdd'].astype(str).apply(lambda x :  x[0:4] + str(datetime.strptime(x[0:4] + '-'+ x[4:6]+'-'+x[6:8] ,'%Y-%m-%d').isocalendar().week))\n",
    "pitching['week'] = pitching['yyyymmdd'].astype(str).apply(lambda x :  x[0:4] + str(datetime.strptime(x[0:4] + '-'+ x[4:6]+'-'+x[6:8] ,'%Y-%m-%d').isocalendar().week))\n",
    "\n",
    "# 투수 이닝수 전처리하기 \n",
    "\n",
    "\n",
    "pitching['IP2'] = pitching['IP'].astype(str).apply(lambda x : int(x.split('.')[1]))\n",
    "pitching['IP'] = pitching['IP'].astype(str).apply(lambda x : int(x.split('.')[0]))\n",
    " \n",
    "\n",
    "# 주별 합산 지표 컬럼만 추리기\n",
    "batting_week = batting.groupby(['week','player_name','player_birth','team']).sum()[['TPA','AB','R','H', 'HR','RBI','BB', 'HBP','SO','GO','FO','PIT','GDP','LOB']].reset_index()\n",
    "pitching_week = pitching.groupby(['week','player_name','player_birth','team']).sum()[['today_type','IP','IP2','TBF','H','R','ER','BB','HBP','K','HR']].reset_index()"
   ]
  },
  {
   "cell_type": "code",
   "execution_count": 74,
   "metadata": {},
   "outputs": [],
   "source": [
    "# 규정 타석, 이닝을 계산하기위한 주별 팀 경기수 변수 생성\n",
    "team_games = batting.groupby(['week','team','yyyymmdd']).count().reset_index()\n",
    "team_games = team_games.groupby(['week','team']).count().reset_index()[['week','team','yyyymmdd']]\n",
    "team_games['game_count'] = team_games['yyyymmdd']\n",
    "team_games = team_games[['week','team','game_count']]"
   ]
  },
  {
   "cell_type": "code",
   "execution_count": 75,
   "metadata": {},
   "outputs": [],
   "source": [
    "batting_week = batting_week.merge(team_games, on = ['week', 'team'], how = 'left')\n",
    "pitching_week = pitching_week.merge(team_games, on = ['week', 'team'], how = 'left')"
   ]
  },
  {
   "cell_type": "code",
   "execution_count": 77,
   "metadata": {},
   "outputs": [],
   "source": [
    "batting_week['RTPA'] = batting_week['game_count']*3.1\n",
    "batting_week['AVG'] = batting_week['H']/batting_week['AB']\n",
    "batting_week['AVG'] =batting_week['AVG'].fillna(0.0) \n",
    "batting_week = batting_week[['week', 'player_name', 'player_birth', 'team', 'TPA','RTPA', 'AB', 'R', 'H',\n",
    "       'HR', 'RBI', 'BB', 'HBP', 'SO', 'GO', 'FO', 'PIT', 'GDP', 'LOB',\n",
    "         'AVG','game_count']]\n",
    "\n",
    "\n",
    "pitching_week['RIP'] = pitching_week['game_count'] * 1.0\n",
    " \n",
    "# 투수 이닝 합산\n",
    "pitching_week['IP'] = pitching_week['IP'] + pitching_week['IP2'].apply(lambda x : x//3) + pitching_week['IP2'].apply(lambda x : x%3/10) \n",
    "pitching_week = pitching_week[['week', 'player_name', 'player_birth', 'team', 'today_type', 'IP', 'RIP','TBF', 'H', 'R', 'ER', 'BB',\n",
    "       'HBP', 'K', 'HR', 'game_count']]"
   ]
  },
  {
   "cell_type": "code",
   "execution_count": 80,
   "metadata": {},
   "outputs": [],
   "source": [
    "engine = create_engine(f\"mysql+pymysql://{user}:{passwd}@{host}:{port}/{db}?charset=utf8\")\n",
    "conn = engine.connect()\n",
    "batting_week.to_sql(name = 'weekly_batting_info', con = engine, if_exists = 'append', index=False)\n",
    "conn.close()\n",
    "\n",
    "engine = create_engine(f\"mysql+pymysql://{user}:{passwd}@{host}:{port}/{db}?charset=utf8\")\n",
    "conn = engine.connect()\n",
    "pitching_week.to_sql(name = 'weekly_pitching_info', con = engine, if_exists = 'append', index=False)\n",
    "conn.close()"
   ]
  },
  {
   "cell_type": "code",
   "execution_count": null,
   "metadata": {},
   "outputs": [],
   "source": []
  }
 ],
 "metadata": {
  "kernelspec": {
   "display_name": "Python 3",
   "language": "python",
   "name": "python3"
  },
  "language_info": {
   "codemirror_mode": {
    "name": "ipython",
    "version": 3
   },
   "file_extension": ".py",
   "mimetype": "text/x-python",
   "name": "python",
   "nbconvert_exporter": "python",
   "pygments_lexer": "ipython3",
   "version": "3.11.2"
  },
  "orig_nbformat": 4
 },
 "nbformat": 4,
 "nbformat_minor": 2
}
