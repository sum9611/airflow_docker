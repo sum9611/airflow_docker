{
 "cells": [
  {
   "cell_type": "code",
   "execution_count": 1,
   "metadata": {},
   "outputs": [],
   "source": [
    "import pymysql\n",
    "import pandas as pd\n",
    "from datetime import datetime\n",
    "from sqlalchemy import create_engine\n",
    "import yaml"
   ]
  },
  {
   "cell_type": "code",
   "execution_count": 2,
   "metadata": {},
   "outputs": [],
   "source": [
    "# db정보 가져오기\n",
    "with open('../yamls/sql_info.yaml') as f:\n",
    "\n",
    "    info = yaml.load(f, Loader=yaml.FullLoader)\n",
    "\n",
    "host = info['MARIADB']['IP']\n",
    "user = info['MARIADB']['USER']\n",
    "passwd=info['MARIADB']['PASSWD']\n",
    "db = info['MARIADB']['DB']\n",
    "port = info['MARIADB']['PORT']"
   ]
  },
  {
   "cell_type": "code",
   "execution_count": 3,
   "metadata": {},
   "outputs": [],
   "source": [
    "conn = pymysql.connect(host = host, user = user, passwd=passwd, db = db, charset='utf8', port = port,cursorclass=pymysql.cursors.DictCursor)\n",
    "cur = conn.cursor()\n",
    "sql = '''select * from weekly_batting_info\n",
    "        where 1=1\n",
    "        and week = '202314'\n",
    "        and TPA >= RTPA\n",
    "        order by H desc\n",
    "'''\n",
    "cur.execute(sql)\n",
    "\n",
    "result = cur.fetchall()\n",
    "batting = pd.DataFrame(result)"
   ]
  },
  {
   "cell_type": "code",
   "execution_count": 7,
   "metadata": {},
   "outputs": [],
   "source": [
    "col = batting.columns"
   ]
  },
  {
   "cell_type": "code",
   "execution_count": 9,
   "metadata": {},
   "outputs": [],
   "source": [
    "\n"
   ]
  },
  {
   "cell_type": "code",
   "execution_count": 43,
   "metadata": {},
   "outputs": [],
   "source": [
    "batting_list = []\n",
    "for i in batting.iterrows():\n",
    "    batting_dic = {}\n",
    "    for j in range(len(col)):\n",
    "        if col[j] == 'player_birth':\n",
    "            batting_dic[col[j]] = i[1][j].strftime('%Y-%m-%d')\n",
    "        elif col[j] == 'AVG':\n",
    "            batting_dic[col[j]] = float(i[1][j])\n",
    "        else:    \n",
    "            batting_dic[col[j]] = i[1][j]\n",
    "    batting_list.append(batting_dic)"
   ]
  },
  {
   "cell_type": "code",
   "execution_count": null,
   "metadata": {},
   "outputs": [],
   "source": []
  }
 ],
 "metadata": {
  "kernelspec": {
   "display_name": "Python 3",
   "language": "python",
   "name": "python3"
  },
  "language_info": {
   "codemirror_mode": {
    "name": "ipython",
    "version": 3
   },
   "file_extension": ".py",
   "mimetype": "text/x-python",
   "name": "python",
   "nbconvert_exporter": "python",
   "pygments_lexer": "ipython3",
   "version": "3.11.2"
  },
  "orig_nbformat": 4
 },
 "nbformat": 4,
 "nbformat_minor": 2
}
